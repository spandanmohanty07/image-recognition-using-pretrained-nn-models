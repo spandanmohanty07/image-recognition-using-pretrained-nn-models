{
  "nbformat": 4,
  "nbformat_minor": 0,
  "metadata": {
    "colab": {
      "name": "classify_dogs_and_cats_using_inceptionv3.ipynb",
      "provenance": [],
      "collapsed_sections": []
    },
    "kernelspec": {
      "name": "python3",
      "display_name": "Python 3"
    },
    "accelerator": "GPU"
  },
  "cells": [
    {
      "cell_type": "code",
      "metadata": {
        "id": "xQVhWHw-GhKX",
        "colab_type": "code",
        "colab": {}
      },
      "source": [
        "# Please note that this notebook is ran on Google colab in GPU runtime environment"
      ],
      "execution_count": 0,
      "outputs": []
    },
    {
      "cell_type": "code",
      "metadata": {
        "id": "wdEJfB6I8tb-",
        "colab_type": "code",
        "colab": {}
      },
      "source": [
        "import os\n",
        "\n",
        "from tensorflow.keras import layers\n",
        "from tensorflow.keras import Model"
      ],
      "execution_count": 0,
      "outputs": []
    },
    {
      "cell_type": "code",
      "metadata": {
        "id": "DM1CdgFP85hV",
        "colab_type": "code",
        "colab": {
          "base_uri": "https://localhost:8080/",
          "height": 208
        },
        "outputId": "d9a7ee24-34e5-401a-caf2-6d507626fbc1"
      },
      "source": [
        "# Download the pre-trained inception v3 model\n",
        "!wget --no-check-certificate \\\n",
        "    https://storage.googleapis.com/mledu-datasets/inception_v3_weights_tf_dim_ordering_tf_kernels_notop.h5 \\\n",
        "    -O /tmp/inception_v3_weights_tf_dim_ordering_tf_kernels_notop.h5"
      ],
      "execution_count": 2,
      "outputs": [
        {
          "output_type": "stream",
          "text": [
            "--2020-05-04 05:05:21--  https://storage.googleapis.com/mledu-datasets/inception_v3_weights_tf_dim_ordering_tf_kernels_notop.h5\n",
            "Resolving storage.googleapis.com (storage.googleapis.com)... 108.177.97.128, 2404:6800:4008:c04::80\n",
            "Connecting to storage.googleapis.com (storage.googleapis.com)|108.177.97.128|:443... connected.\n",
            "HTTP request sent, awaiting response... 200 OK\n",
            "Length: 87910968 (84M) [application/x-hdf]\n",
            "Saving to: ‘/tmp/inception_v3_weights_tf_dim_ordering_tf_kernels_notop.h5’\n",
            "\n",
            "\r          /tmp/ince   0%[                    ]       0  --.-KB/s               \r         /tmp/incep  16%[==>                 ]  13.51M  67.0MB/s               \r        /tmp/incept  28%[====>               ]  24.01M  39.7MB/s               \r       /tmp/incepti  75%[==============>     ]  62.89M  78.2MB/s               \r      /tmp/inceptio  76%[==============>     ]  64.01M  63.3MB/s               \r/tmp/inception_v3_w 100%[===================>]  83.84M  74.4MB/s    in 1.1s    \n",
            "\n",
            "2020-05-04 05:05:22 (74.4 MB/s) - ‘/tmp/inception_v3_weights_tf_dim_ordering_tf_kernels_notop.h5’ saved [87910968/87910968]\n",
            "\n"
          ],
          "name": "stdout"
        }
      ]
    },
    {
      "cell_type": "code",
      "metadata": {
        "id": "Fe2pYuA-9KLf",
        "colab_type": "code",
        "colab": {}
      },
      "source": [
        "from tensorflow.keras.applications.inception_v3 import InceptionV3"
      ],
      "execution_count": 0,
      "outputs": []
    },
    {
      "cell_type": "code",
      "metadata": {
        "id": "pzcizTDN9VBG",
        "colab_type": "code",
        "colab": {}
      },
      "source": [
        "local_weights_file = '/tmp/inception_v3_weights_tf_dim_ordering_tf_kernels_notop.h5'"
      ],
      "execution_count": 0,
      "outputs": []
    },
    {
      "cell_type": "code",
      "metadata": {
        "id": "uz7-1Wbx9a55",
        "colab_type": "code",
        "colab": {}
      },
      "source": [
        "# We are specifying in parameters - 1. not to include system defined default weights; 2. In the top we have few fully connected layers which we are ignoring by mentioning include_top=False \n",
        "pre_trained_model = InceptionV3(input_shape=(150,150,3), weights=None, include_top=False) "
      ],
      "execution_count": 0,
      "outputs": []
    },
    {
      "cell_type": "code",
      "metadata": {
        "id": "s1EBOre8-bh9",
        "colab_type": "code",
        "colab": {}
      },
      "source": [
        "# Load the weights downloaded earlier to the model\n",
        "pre_trained_model.load_weights(local_weights_file)"
      ],
      "execution_count": 0,
      "outputs": []
    },
    {
      "cell_type": "code",
      "metadata": {
        "id": "1FbxV7qH-mf1",
        "colab_type": "code",
        "colab": {}
      },
      "source": [
        "# All the layers in the pre_trained_model need not be trained again\n",
        "for layer in pre_trained_model.layers:\n",
        "  layer.trainable = False\n",
        "\n",
        "# pre_trained_model.summary()"
      ],
      "execution_count": 0,
      "outputs": []
    },
    {
      "cell_type": "code",
      "metadata": {
        "id": "UlFNB6sL-6ky",
        "colab_type": "code",
        "colab": {
          "base_uri": "https://localhost:8080/",
          "height": 35
        },
        "outputId": "eafa8705-edf8-4d87-cb5d-654e6016ea1b"
      },
      "source": [
        "# Fetch a specific layer from the model.summary()\n",
        "last_layer = pre_trained_model.get_layer('mixed7')\n",
        "print('last layer output shape: ', last_layer.output_shape)\n",
        "\n",
        "# Define last_layer's output as the last_output\n",
        "last_output = last_layer.output"
      ],
      "execution_count": 9,
      "outputs": [
        {
          "output_type": "stream",
          "text": [
            "last layer output shape:  (None, 7, 7, 768)\n"
          ],
          "name": "stdout"
        }
      ]
    },
    {
      "cell_type": "code",
      "metadata": {
        "id": "phrfnUs2_MLm",
        "colab_type": "code",
        "colab": {}
      },
      "source": [
        "from tensorflow.keras.optimizers import RMSprop\n",
        "\n",
        "# Flatten the output layer to 1 dimension\n",
        "x = layers.Flatten()(last_output)\n",
        "# Add a fully connected layer with 1,024 hidden units and ReLU activation\n",
        "x = layers.Dense(1024, activation='relu')(x)\n",
        "# Add a dropout rate of 0.2\n",
        "x = layers.Dropout(0.2)(x)                  \n",
        "# Add a final sigmoid layer for classification\n",
        "x = layers.Dense  (1, activation='sigmoid')(x)           \n",
        "\n",
        "model = Model(pre_trained_model.input, x) \n",
        "\n",
        "model.compile(optimizer = RMSprop(lr=0.0001), \n",
        "              loss = 'binary_crossentropy', \n",
        "              metrics = ['accuracy'])\n"
      ],
      "execution_count": 0,
      "outputs": []
    },
    {
      "cell_type": "code",
      "metadata": {
        "id": "tP6dcISnCv3E",
        "colab_type": "code",
        "colab": {
          "base_uri": "https://localhost:8080/",
          "height": 243
        },
        "outputId": "dfb0a0a4-c75c-4c89-9c81-c511019c1fea"
      },
      "source": [
        "!wget --no-check-certificate \\\n",
        "        https://storage.googleapis.com/mledu-datasets/cats_and_dogs_filtered.zip \\\n",
        "       -O /tmp/cats_and_dogs_filtered.zip\n",
        "\n",
        "from tensorflow.keras.preprocessing.image import ImageDataGenerator\n",
        "\n",
        "import os\n",
        "import zipfile\n",
        "\n",
        "local_zip = '//tmp/cats_and_dogs_filtered.zip'\n",
        "\n",
        "zip_ref = zipfile.ZipFile(local_zip, 'r')\n",
        "\n",
        "zip_ref.extractall('/tmp')\n",
        "zip_ref.close()\n",
        "\n",
        "# Define our example directories and files\n",
        "base_dir = '/tmp/cats_and_dogs_filtered'\n",
        "\n",
        "train_dir = os.path.join( base_dir, 'train')\n",
        "validation_dir = os.path.join( base_dir, 'validation')\n",
        "\n",
        "\n",
        "train_cats_dir = os.path.join(train_dir, 'cats') # Directory with our training cat pictures\n",
        "train_dogs_dir = os.path.join(train_dir, 'dogs') # Directory with our training dog pictures\n",
        "validation_cats_dir = os.path.join(validation_dir, 'cats') # Directory with our validation cat pictures\n",
        "validation_dogs_dir = os.path.join(validation_dir, 'dogs')# Directory with our validation dog pictures\n",
        "\n",
        "train_cat_fnames = os.listdir(train_cats_dir)\n",
        "train_dog_fnames = os.listdir(train_dogs_dir)\n",
        "\n",
        "# Add our data-augmentation parameters to ImageDataGenerator\n",
        "train_datagen = ImageDataGenerator(rescale = 1./255.,\n",
        "                                   rotation_range = 40,\n",
        "                                   width_shift_range = 0.2,\n",
        "                                   height_shift_range = 0.2,\n",
        "                                   shear_range = 0.2,\n",
        "                                   zoom_range = 0.2,\n",
        "                                   horizontal_flip = True)\n",
        "\n",
        "# Note that the validation data should not be augmented!\n",
        "test_datagen = ImageDataGenerator( rescale = 1.0/255. )\n",
        "\n",
        "# Flow training images in batches of 20 using train_datagen generator\n",
        "train_generator = train_datagen.flow_from_directory(train_dir,\n",
        "                                                    batch_size = 20,\n",
        "                                                    class_mode = 'binary', \n",
        "                                                    target_size = (150, 150))     \n",
        "\n",
        "# Flow validation images in batches of 20 using test_datagen generator\n",
        "validation_generator =  test_datagen.flow_from_directory(validation_dir,\n",
        "                                                          batch_size  = 20,\n",
        "                                                          class_mode  = 'binary', \n",
        "                                                          target_size = (150, 150))"
      ],
      "execution_count": 11,
      "outputs": [
        {
          "output_type": "stream",
          "text": [
            "--2020-05-04 05:06:34--  https://storage.googleapis.com/mledu-datasets/cats_and_dogs_filtered.zip\n",
            "Resolving storage.googleapis.com (storage.googleapis.com)... 64.233.187.128, 2404:6800:4008:c00::80\n",
            "Connecting to storage.googleapis.com (storage.googleapis.com)|64.233.187.128|:443... connected.\n",
            "HTTP request sent, awaiting response... 200 OK\n",
            "Length: 68606236 (65M) [application/zip]\n",
            "Saving to: ‘/tmp/cats_and_dogs_filtered.zip’\n",
            "\n",
            "\r          /tmp/cats   0%[                    ]       0  --.-KB/s               \r         /tmp/cats_   6%[>                   ]   4.01M  11.6MB/s               \r        /tmp/cats_a  63%[===========>        ]  41.80M  76.6MB/s               \r       /tmp/cats_an  73%[=============>      ]  48.01M  59.4MB/s               \r/tmp/cats_and_dogs_ 100%[===================>]  65.43M  75.3MB/s    in 0.9s    \n",
            "\n",
            "2020-05-04 05:06:35 (75.3 MB/s) - ‘/tmp/cats_and_dogs_filtered.zip’ saved [68606236/68606236]\n",
            "\n",
            "Found 2000 images belonging to 2 classes.\n",
            "Found 1000 images belonging to 2 classes.\n"
          ],
          "name": "stdout"
        }
      ]
    },
    {
      "cell_type": "code",
      "metadata": {
        "id": "M_yru_YFAUu8",
        "colab_type": "code",
        "colab": {
          "base_uri": "https://localhost:8080/",
          "height": 711
        },
        "outputId": "80ea30be-15bf-4d6d-9e86-d6c8f4687a99"
      },
      "source": [
        "# Training the model\n",
        "history = model.fit(\n",
        "            train_generator,\n",
        "            validation_data = validation_generator,\n",
        "            steps_per_epoch = 100,\n",
        "            epochs = 20,\n",
        "            validation_steps = 50,\n",
        "            verbose = 2)"
      ],
      "execution_count": 12,
      "outputs": [
        {
          "output_type": "stream",
          "text": [
            "Epoch 1/20\n",
            "100/100 - 17s - loss: 0.3699 - accuracy: 0.8620 - val_loss: 0.1293 - val_accuracy: 0.9480\n",
            "Epoch 2/20\n",
            "100/100 - 17s - loss: 0.2114 - accuracy: 0.9225 - val_loss: 0.1054 - val_accuracy: 0.9620\n",
            "Epoch 3/20\n",
            "100/100 - 16s - loss: 0.2303 - accuracy: 0.9185 - val_loss: 0.1137 - val_accuracy: 0.9590\n",
            "Epoch 4/20\n",
            "100/100 - 16s - loss: 0.1880 - accuracy: 0.9290 - val_loss: 0.0981 - val_accuracy: 0.9640\n",
            "Epoch 5/20\n",
            "100/100 - 16s - loss: 0.1839 - accuracy: 0.9360 - val_loss: 0.1455 - val_accuracy: 0.9550\n",
            "Epoch 6/20\n",
            "100/100 - 17s - loss: 0.1847 - accuracy: 0.9320 - val_loss: 0.1512 - val_accuracy: 0.9560\n",
            "Epoch 7/20\n",
            "100/100 - 16s - loss: 0.1852 - accuracy: 0.9325 - val_loss: 0.0981 - val_accuracy: 0.9690\n",
            "Epoch 8/20\n",
            "100/100 - 16s - loss: 0.1613 - accuracy: 0.9440 - val_loss: 0.2278 - val_accuracy: 0.9470\n",
            "Epoch 9/20\n",
            "100/100 - 16s - loss: 0.1649 - accuracy: 0.9470 - val_loss: 0.1261 - val_accuracy: 0.9660\n",
            "Epoch 10/20\n",
            "100/100 - 16s - loss: 0.1309 - accuracy: 0.9525 - val_loss: 0.2020 - val_accuracy: 0.9500\n",
            "Epoch 11/20\n",
            "100/100 - 17s - loss: 0.1771 - accuracy: 0.9425 - val_loss: 0.1064 - val_accuracy: 0.9640\n",
            "Epoch 12/20\n",
            "100/100 - 17s - loss: 0.1455 - accuracy: 0.9510 - val_loss: 0.1624 - val_accuracy: 0.9580\n",
            "Epoch 13/20\n",
            "100/100 - 17s - loss: 0.1650 - accuracy: 0.9455 - val_loss: 0.1537 - val_accuracy: 0.9600\n",
            "Epoch 14/20\n",
            "100/100 - 17s - loss: 0.1535 - accuracy: 0.9490 - val_loss: 0.1925 - val_accuracy: 0.9520\n",
            "Epoch 15/20\n",
            "100/100 - 17s - loss: 0.1273 - accuracy: 0.9545 - val_loss: 0.1110 - val_accuracy: 0.9620\n",
            "Epoch 16/20\n",
            "100/100 - 17s - loss: 0.1557 - accuracy: 0.9520 - val_loss: 0.1547 - val_accuracy: 0.9640\n",
            "Epoch 17/20\n",
            "100/100 - 17s - loss: 0.1320 - accuracy: 0.9555 - val_loss: 0.1156 - val_accuracy: 0.9740\n",
            "Epoch 18/20\n",
            "100/100 - 17s - loss: 0.1241 - accuracy: 0.9530 - val_loss: 0.1242 - val_accuracy: 0.9690\n",
            "Epoch 19/20\n",
            "100/100 - 17s - loss: 0.1395 - accuracy: 0.9550 - val_loss: 0.1680 - val_accuracy: 0.9550\n",
            "Epoch 20/20\n",
            "100/100 - 17s - loss: 0.1178 - accuracy: 0.9615 - val_loss: 0.1462 - val_accuracy: 0.9640\n"
          ],
          "name": "stdout"
        }
      ]
    },
    {
      "cell_type": "code",
      "metadata": {
        "id": "RprqKfn6Am82",
        "colab_type": "code",
        "colab": {
          "base_uri": "https://localhost:8080/",
          "height": 299
        },
        "outputId": "73b77e1f-962d-4b57-a3e8-8ef5ea8647e0"
      },
      "source": [
        "import matplotlib.pyplot as plt\n",
        "acc = history.history['accuracy']\n",
        "val_acc = history.history['val_accuracy']\n",
        "loss = history.history['loss']\n",
        "val_loss = history.history['val_loss']\n",
        "\n",
        "epochs = range(len(acc))\n",
        "\n",
        "plt.plot(epochs, acc, 'r', label='Training accuracy')\n",
        "plt.plot(epochs, val_acc, 'b', label='Validation accuracy')\n",
        "plt.title('Training and validation accuracy')\n",
        "plt.legend(loc=0)\n",
        "plt.figure()\n",
        "\n",
        "\n",
        "plt.show()"
      ],
      "execution_count": 13,
      "outputs": [
        {
          "output_type": "display_data",
          "data": {
            "image/png": "[encoded data removed]",
            "text/plain": [
              "<Figure size 432x288 with 1 Axes>"
            ]
          },
          "metadata": {
            "tags": [],
            "needs_background": "light"
          }
        },
        {
          "output_type": "display_data",
          "data": {
            "text/plain": [
              "<Figure size 432x288 with 0 Axes>"
            ]
          },
          "metadata": {
            "tags": []
          }
        }
      ]
    },
    {
      "cell_type": "code",
      "metadata": {
        "id": "vHQfYQwaFBxJ",
        "colab_type": "code",
        "colab": {}
      },
      "source": [
        ""
      ],
      "execution_count": 0,
      "outputs": []
    }
  ]
}